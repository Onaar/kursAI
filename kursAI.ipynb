{
  "nbformat": 4,
  "nbformat_minor": 0,
  "metadata": {
    "colab": {
      "provenance": [],
      "authorship_tag": "ABX9TyMiUlPG4qSn2GzUDYRVdiGC",
      "include_colab_link": true
    },
    "kernelspec": {
      "name": "python3",
      "display_name": "Python 3"
    },
    "language_info": {
      "name": "python"
    }
  },
  "cells": [
    {
      "cell_type": "markdown",
      "metadata": {
        "id": "view-in-github",
        "colab_type": "text"
      },
      "source": [
        "<a href=\"https://colab.research.google.com/github/Onaar/kursAI/blob/main/kursAI.ipynb\" target=\"_parent\"><img src=\"https://colab.research.google.com/assets/colab-badge.svg\" alt=\"Open In Colab\"/></a>"
      ]
    },
    {
      "cell_type": "code",
      "execution_count": 4,
      "metadata": {
        "colab": {
          "base_uri": "https://localhost:8080/"
        },
        "id": "CWOMOzZa_3fT",
        "outputId": "18861ba3-403e-467d-de92-260302c15d9f"
      },
      "outputs": [
        {
          "output_type": "stream",
          "name": "stdout",
          "text": [
            "hello world\n"
          ]
        }
      ],
      "source": [
        "print(\"hello world\")\n",
        "a = \"asdasd\"\n",
        "asd = \"asd\""
      ]
    },
    {
      "cell_type": "markdown",
      "source": [
        "Git hub"
      ],
      "metadata": {
        "id": "QYb_AO5yDrvs"
      }
    },
    {
      "cell_type": "code",
      "source": [
        "!git init\n",
        "!git config --global user.name \"Onaar\"\n",
        "!git config --global user.email \"aaron.pula1@gmail.com\""
      ],
      "metadata": {
        "colab": {
          "base_uri": "https://localhost:8080/"
        },
        "id": "ajJhbiGhDxZJ",
        "outputId": "ad447424-fb6f-4007-b8a6-e18fdb954b4e"
      },
      "execution_count": 2,
      "outputs": [
        {
          "output_type": "stream",
          "name": "stdout",
          "text": [
            "\u001b[33mhint: Using 'master' as the name for the initial branch. This default branch name\u001b[m\n",
            "\u001b[33mhint: is subject to change. To configure the initial branch name to use in all\u001b[m\n",
            "\u001b[33mhint: of your new repositories, which will suppress this warning, call:\u001b[m\n",
            "\u001b[33mhint: \u001b[m\n",
            "\u001b[33mhint: \tgit config --global init.defaultBranch <name>\u001b[m\n",
            "\u001b[33mhint: \u001b[m\n",
            "\u001b[33mhint: Names commonly chosen instead of 'master' are 'main', 'trunk' and\u001b[m\n",
            "\u001b[33mhint: 'development'. The just-created branch can be renamed via this command:\u001b[m\n",
            "\u001b[33mhint: \u001b[m\n",
            "\u001b[33mhint: \tgit branch -m <name>\u001b[m\n",
            "Initialized empty Git repository in /content/.git/\n"
          ]
        }
      ]
    },
    {
      "cell_type": "code",
      "source": [
        "!git add ."
      ],
      "metadata": {
        "id": "1pDmWjjyEdf2"
      },
      "execution_count": 3,
      "outputs": []
    },
    {
      "cell_type": "code",
      "source": [
        "!git commit -m \"init commit\""
      ],
      "metadata": {
        "colab": {
          "base_uri": "https://localhost:8080/"
        },
        "id": "2FUc3VrAE4AM",
        "outputId": "3a241de1-1a86-4d39-b93f-b2eb2d32be42"
      },
      "execution_count": 5,
      "outputs": [
        {
          "output_type": "stream",
          "name": "stdout",
          "text": [
            "[master (root-commit) a739583] init commit\n",
            " 21 files changed, 51025 insertions(+)\n",
            " create mode 100644 .config/.last_opt_in_prompt.yaml\n",
            " create mode 100644 .config/.last_survey_prompt.yaml\n",
            " create mode 100644 .config/.last_update_check.json\n",
            " create mode 100644 .config/active_config\n",
            " create mode 100644 .config/config_sentinel\n",
            " create mode 100644 .config/configurations/config_default\n",
            " create mode 100644 .config/default_configs.db\n",
            " create mode 100644 .config/gce\n",
            " create mode 100644 .config/hidden_gcloud_config_universe_descriptor_data_cache_configs.db\n",
            " create mode 100644 .config/logs/2025.03.03/14.17.59.864693.log\n",
            " create mode 100644 .config/logs/2025.03.03/14.18.29.561755.log\n",
            " create mode 100644 .config/logs/2025.03.03/14.18.37.189431.log\n",
            " create mode 100644 .config/logs/2025.03.03/14.18.41.906540.log\n",
            " create mode 100644 .config/logs/2025.03.03/14.18.49.501562.log\n",
            " create mode 100644 .config/logs/2025.03.03/14.18.50.157026.log\n",
            " create mode 100755 sample_data/README.md\n",
            " create mode 100755 sample_data/anscombe.json\n",
            " create mode 100644 sample_data/california_housing_test.csv\n",
            " create mode 100644 sample_data/california_housing_train.csv\n",
            " create mode 100644 sample_data/mnist_test.csv\n",
            " create mode 100644 sample_data/mnist_train_small.csv\n"
          ]
        }
      ]
    },
    {
      "cell_type": "code",
      "source": [
        "!git branch -M main"
      ],
      "metadata": {
        "id": "ItP15UhEFNMn"
      },
      "execution_count": 6,
      "outputs": []
    },
    {
      "cell_type": "code",
      "source": [
        "# usunieto dla bezpieczenstwa token"
      ],
      "metadata": {
        "id": "U58cJMT-G8Ep"
      },
      "execution_count": 7,
      "outputs": []
    },
    {
      "cell_type": "code",
      "source": [
        "!git push -u origin main"
      ],
      "metadata": {
        "colab": {
          "base_uri": "https://localhost:8080/"
        },
        "id": "vcgXOpwjHt-M",
        "outputId": "b5d8fa2d-b190-4cf1-c83d-c927bdc1179c"
      },
      "execution_count": 8,
      "outputs": [
        {
          "output_type": "stream",
          "name": "stdout",
          "text": [
            "Enumerating objects: 28, done.\n",
            "Counting objects:   3% (1/28)\rCounting objects:   7% (2/28)\rCounting objects:  10% (3/28)\rCounting objects:  14% (4/28)\rCounting objects:  17% (5/28)\rCounting objects:  21% (6/28)\rCounting objects:  25% (7/28)\rCounting objects:  28% (8/28)\rCounting objects:  32% (9/28)\rCounting objects:  35% (10/28)\rCounting objects:  39% (11/28)\rCounting objects:  42% (12/28)\rCounting objects:  46% (13/28)\rCounting objects:  50% (14/28)\rCounting objects:  53% (15/28)\rCounting objects:  57% (16/28)\rCounting objects:  60% (17/28)\rCounting objects:  64% (18/28)\rCounting objects:  67% (19/28)\rCounting objects:  71% (20/28)\rCounting objects:  75% (21/28)\rCounting objects:  78% (22/28)\rCounting objects:  82% (23/28)\rCounting objects:  85% (24/28)\rCounting objects:  89% (25/28)\rCounting objects:  92% (26/28)\rCounting objects:  96% (27/28)\rCounting objects: 100% (28/28)\rCounting objects: 100% (28/28), done.\n",
            "Delta compression using up to 2 threads\n",
            "Compressing objects: 100% (21/21), done.\n",
            "Writing objects: 100% (28/28), 8.42 MiB | 1.43 MiB/s, done.\n",
            "Total 28 (delta 5), reused 0 (delta 0), pack-reused 0\n",
            "remote: Resolving deltas: 100% (5/5), done.\u001b[K\n",
            "To https://github.com/Onaar/kursAI.git\n",
            " * [new branch]      main -> main\n",
            "Branch 'main' set up to track remote branch 'main' from 'origin'.\n"
          ]
        }
      ]
    },
    {
      "cell_type": "code",
      "source": [
        "!git pull origin main"
      ],
      "metadata": {
        "colab": {
          "base_uri": "https://localhost:8080/"
        },
        "id": "ZTNUHGA5Ibiw",
        "outputId": "111d23e2-0824-4a8f-e638-1962d51e2a5b"
      },
      "execution_count": 9,
      "outputs": [
        {
          "output_type": "stream",
          "name": "stdout",
          "text": [
            "remote: Enumerating objects: 4, done.\u001b[K\n",
            "remote: Counting objects:  25% (1/4)\u001b[K\rremote: Counting objects:  50% (2/4)\u001b[K\rremote: Counting objects:  75% (3/4)\u001b[K\rremote: Counting objects: 100% (4/4)\u001b[K\rremote: Counting objects: 100% (4/4), done.\u001b[K\n",
            "remote: Compressing objects:  50% (1/2)\u001b[K\rremote: Compressing objects: 100% (2/2)\u001b[K\rremote: Compressing objects: 100% (2/2), done.\u001b[K\n",
            "remote: Total 3 (delta 0), reused 0 (delta 0), pack-reused 0 (from 0)\u001b[K\n",
            "Unpacking objects:  33% (1/3)\rUnpacking objects:  66% (2/3)\rUnpacking objects: 100% (3/3)\rUnpacking objects: 100% (3/3), 977 bytes | 977.00 KiB/s, done.\n",
            "From https://github.com/Onaar/kursAI\n",
            " * branch            main       -> FETCH_HEAD\n",
            "   a739583..f5ee049  main       -> origin/main\n",
            "Updating a739583..f5ee049\n",
            "Fast-forward\n",
            " README.md | 1 \u001b[32m+\u001b[m\n",
            " 1 file changed, 1 insertion(+)\n",
            " create mode 100644 README.md\n"
          ]
        }
      ]
    },
    {
      "cell_type": "code",
      "source": [
        "zmienna = \"to jest napis\"\n",
        "logiczna = True # False\n",
        "zmiennoprzecinkowa = 12.3 # float\n",
        "liczba_calkowita = 123 # int\n",
        "\n",
        "print(f\"wartosc Zmiennej: {liczba_calkowita}  typ zmiennej: {type(liczba_calkowita)}\")"
      ],
      "metadata": {
        "colab": {
          "base_uri": "https://localhost:8080/"
        },
        "id": "vqIxqdzaKsqp",
        "outputId": "9ee6af8d-5523-4495-fda2-76feade2b331"
      },
      "execution_count": 15,
      "outputs": [
        {
          "output_type": "stream",
          "name": "stdout",
          "text": [
            "wartosc Zmiennej: 123  typ zmiennej: <class 'int'>\n"
          ]
        }
      ]
    },
    {
      "cell_type": "code",
      "source": [
        "gry = [\"fortnite\", \"minecraft\", \"roblox\", 123, 123.234]\n",
        "print(gry)\n",
        "\n",
        "gry.append(\"cs\") # dodawanie elementu na koniec\n",
        "print(gry)"
      ],
      "metadata": {
        "colab": {
          "base_uri": "https://localhost:8080/"
        },
        "id": "RTVsH1GFMla-",
        "outputId": "988c82ed-718d-405a-9a64-e60329b8430f"
      },
      "execution_count": 20,
      "outputs": [
        {
          "output_type": "stream",
          "name": "stdout",
          "text": [
            "['fortnite', 'minecraft', 'roblox', 123, 123.234]\n",
            "['fortnite', 'minecraft', 'roblox', 123, 123.234, 'cs']\n"
          ]
        },
        {
          "output_type": "execute_result",
          "data": {
            "text/plain": [
              "['fortnite', 'minecraft', 'roblox', 123, 123.234, 'cs']"
            ]
          },
          "metadata": {},
          "execution_count": 20
        }
      ]
    },
    {
      "cell_type": "code",
      "source": [
        "# pętle\n",
        "licznik = 0\n",
        "while licznik < 5:\n",
        "  print(licznik)\n",
        "  licznik += 1\n",
        "\n",
        "gry = [\"fortnite\", \"minecraft\", \"roblox\"]\n",
        "\n",
        "for element in gry:\n",
        "  print(element)\n",
        "\n",
        "for element in range(0,5,1): # = range(5) # range(wartosc poczatkowa, wartosc koncowa(exclusive), krok)\n",
        "  print(element)\n",
        "\n",
        "# chce od 2, koniec na 50 (inkl), co 5\n",
        "for element in range(2,51,5):\n",
        "  print(element)"
      ],
      "metadata": {
        "colab": {
          "base_uri": "https://localhost:8080/"
        },
        "id": "8QDAko69NFE-",
        "outputId": "b60729b0-5097-4422-c18f-44e97aa2b01b"
      },
      "execution_count": 40,
      "outputs": [
        {
          "output_type": "stream",
          "name": "stdout",
          "text": [
            "0\n",
            "1\n",
            "2\n",
            "3\n",
            "4\n",
            "fortnite\n",
            "minecraft\n",
            "roblox\n",
            "0\n",
            "1\n",
            "2\n",
            "3\n",
            "4\n",
            "2\n",
            "7\n",
            "12\n",
            "17\n",
            "22\n",
            "27\n",
            "32\n",
            "37\n",
            "42\n",
            "47\n"
          ]
        }
      ]
    },
    {
      "cell_type": "code",
      "source": [
        "slownik = {\n",
        "    \"kot\":\"cat\",\n",
        "    \"pies\":\"dog\",\n",
        "    \"wąż\":\"snake\"\n",
        "}\n",
        "\n",
        "print(slownik[\"kot\"])\n",
        "\n",
        "for klucz in slownik.keys():\n",
        "  print(klucz)\n",
        "\n",
        "for wartosc in slownik.values():\n",
        "  print(wartosc)\n",
        "\n",
        "for klucz, wartosc in slownik.items():\n",
        "  print(f\"Klucz: {klucz} Wartosc: {wartosc}\")\n",
        "\n",
        "# Krotka\n",
        "wspolrzedne = (4, 6)\n",
        "print(f\"Wspolrzedna 1: {wspolrzedne[0]}, wspolrzedna 2: {wspolrzedne[1]}\")"
      ],
      "metadata": {
        "colab": {
          "base_uri": "https://localhost:8080/"
        },
        "id": "EeZN4WrNPN2m",
        "outputId": "1ff89e28-86b5-43fd-919f-d35f101eb91a"
      },
      "execution_count": 49,
      "outputs": [
        {
          "output_type": "stream",
          "name": "stdout",
          "text": [
            "cat\n",
            "kot\n",
            "pies\n",
            "wąż\n",
            "cat\n",
            "dog\n",
            "snake\n",
            "Klucz: kot Wartosc: cat\n",
            "Klucz: pies Wartosc: dog\n",
            "Klucz: wąż Wartosc: snake\n",
            "Wspolrzedna 1: 4, wspolrzedna 2: 6\n"
          ]
        }
      ]
    },
    {
      "cell_type": "code",
      "source": [
        "temperatura = int(input(\"Podaj temperature: \"))\n",
        "\n",
        "print(f\"Podana temperatura: {temperatura}\")\n",
        "\n",
        "if temperatura < 21:\n",
        "  print(\"Za zimno\")\n",
        "elif temperatura >= 26:\n",
        "  print(\"Za gorąco\")\n",
        "else:\n",
        "  print(\"Dozwolona temperatura\")"
      ],
      "metadata": {
        "colab": {
          "base_uri": "https://localhost:8080/"
        },
        "id": "kHu1UYfpRrmF",
        "outputId": "7cbb50c7-43cc-4c5f-dffc-87d188d89344"
      },
      "execution_count": 53,
      "outputs": [
        {
          "output_type": "stream",
          "name": "stdout",
          "text": [
            "Podaj temperature: 23\n",
            "Podana temperatura: 23\n",
            "Dozwolona temperatura\n"
          ]
        }
      ]
    },
    {
      "cell_type": "code",
      "source": [
        "def dodawanie(x, y = 67):\n",
        "  return x + y\n",
        "\n",
        "print(dodawanie(1,2))\n",
        "print(dodawanie(\"123\", \"asd\"))\n",
        "print(dodawanie(2))"
      ],
      "metadata": {
        "colab": {
          "base_uri": "https://localhost:8080/"
        },
        "id": "liIBDocDSncD",
        "outputId": "3a7d6503-133b-492d-f759-b14ffefd85bd"
      },
      "execution_count": 59,
      "outputs": [
        {
          "output_type": "stream",
          "name": "stdout",
          "text": [
            "3\n",
            "123asd\n",
            "69\n"
          ]
        }
      ]
    },
    {
      "cell_type": "code",
      "source": [
        "try:\n",
        "  with open(\"dane.txt\", \"a\") as file: # a - append, w - write, r - read\n",
        "    file.write(\"\\nNowy tekst\")\n",
        "  with open(\"dane.txt\", \"r\") as file:\n",
        "    for linia in file:\n",
        "      print(linia, end=\"\")\n",
        "\n",
        "  print()\n",
        "\n",
        "  12/0\n",
        "\n",
        "except Exception as e:\n",
        "  print(\"Wystąpił błąd:\",e)\n",
        "finally:\n",
        "  print(\"koniec bloku\")"
      ],
      "metadata": {
        "colab": {
          "base_uri": "https://localhost:8080/"
        },
        "id": "LM5FbHUyTMHd",
        "outputId": "21973ff5-2bdc-441b-a799-61e030a6008c"
      },
      "execution_count": 75,
      "outputs": [
        {
          "output_type": "stream",
          "name": "stdout",
          "text": [
            "Nowy tekst\n",
            "Nowy tekst\n",
            "Wystąpił błąd: division by zero\n",
            "koniec bloku\n"
          ]
        }
      ]
    }
  ]
}